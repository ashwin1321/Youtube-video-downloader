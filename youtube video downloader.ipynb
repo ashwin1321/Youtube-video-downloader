{
 "cells": [
  {
   "cell_type": "code",
   "execution_count": 9,
   "id": "57704961",
   "metadata": {},
   "outputs": [
    {
     "name": "stdout",
     "output_type": "stream",
     "text": [
      "Enter the link of the video: https://www.youtube.com/watch?v=WEPlqlBKzxA\n",
      "Title:  Timro Aakhama Aakha Judhai || Nai Nabhannu La 5 || Melina Rai || Swastima Khadka ,Abhishek\n",
      "Length of the video:  295  seconds\n",
      "task completed\n"
     ]
    }
   ],
   "source": [
    "#importing the module\n",
    "from pytube import YouTube\n",
    "\n",
    "# Link of the video you wish to download\n",
    "link = input(\"Enter the link of the video: \")\n",
    "\n",
    "try:\n",
    "    \n",
    "    yt  = YouTube(link)\n",
    "    \n",
    "    #video title\n",
    "    print(\"Title: \", yt.title)\n",
    "    \n",
    "    #length of the video\n",
    "    print(\"Length of the video: \", yt.length,\" seconds\")\n",
    "    \n",
    "    #get the video in highest resolution\n",
    "    res = yt.streams.get_highest_resolution()\n",
    "    \n",
    "    #download the video\n",
    "    res.download('D:')\n",
    "    print(\"task completed\")\n",
    "    \n",
    "except:\n",
    "    print(\"Error\")"
   ]
  },
  {
   "cell_type": "code",
   "execution_count": null,
   "id": "d24f3986",
   "metadata": {},
   "outputs": [],
   "source": []
  }
 ],
 "metadata": {
  "kernelspec": {
   "display_name": "Python 3",
   "language": "python",
   "name": "python3"
  },
  "language_info": {
   "codemirror_mode": {
    "name": "ipython",
    "version": 3
   },
   "file_extension": ".py",
   "mimetype": "text/x-python",
   "name": "python",
   "nbconvert_exporter": "python",
   "pygments_lexer": "ipython3",
   "version": "3.9.5"
  }
 },
 "nbformat": 4,
 "nbformat_minor": 5
}
